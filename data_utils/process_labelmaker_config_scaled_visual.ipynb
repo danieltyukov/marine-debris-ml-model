{
 "cells": [
  {
   "cell_type": "code",
   "execution_count": null,
   "metadata": {},
   "outputs": [],
   "source": [
    "import geojson\n",
    "from glob import glob\n",
    "import json\n",
    "import os, sys, fnmatch\n",
    "from os import makedirs, path as op, listdir, system\n",
    "import shutil\n",
    "from PIL import Image\n",
    "import numpy as np\n",
    "\n",
    "import rasterio \n",
    "from shutil import copyfile\n",
    "import subprocess"
   ]
  },
  {
   "cell_type": "code",
   "execution_count": null,
   "metadata": {},
   "outputs": [],
   "source": [
    "def find(pattern, path):\n",
    "    result = []\n",
    "    for root, dirs, files in os.walk(path):\n",
    "        for name in files:\n",
    "            if fnmatch.fnmatch(name, pattern):\n",
    "                result.append(os.path.join(root, name))\n",
    "    return result"
   ]
  },
  {
   "cell_type": "code",
   "execution_count": null,
   "metadata": {},
   "outputs": [],
   "source": [
    "def get_bounding_box(geoj):\n",
    "    with open(geoj) as f:\n",
    "        xcoords = []\n",
    "        ycoords = []\n",
    "        data = json.load(f)\n",
    "        for feature in data['features']:\n",
    "            geom = feature['geometry']\n",
    "            for coord in geom['coordinates']:\n",
    "                if type(coord) == float:  # then its a point feature\n",
    "                    xcoords.append(geom['coordinates'][0])\n",
    "                    ycoords.append(geom['coordinates'][1])\n",
    "                elif type(coord) == list:\n",
    "                    for c in coord:\n",
    "                        if type(c) == float:  # then its a linestring feature\n",
    "                            xcoords.append(coord[0])\n",
    "                            ycoords.append(coord[1])\n",
    "                        elif type(c) == list:  # then its a polygon feature\n",
    "                            xcoords.append(c[0])\n",
    "                            ycoords.append(c[1])\n",
    "            coords = np.array(list(geojson.utils.coords(geom)))\n",
    "    return [min(xcoords), min(ycoords), max(xcoords), max(ycoords)]"
   ]
  },
  {
   "cell_type": "code",
   "execution_count": null,
   "metadata": {},
   "outputs": [],
   "source": [
    "geo_dir = '/Users/lillythomas/Documents/work/marine_litter_ML/geojsons/merged/labeled'"
   ]
  },
  {
   "cell_type": "code",
   "execution_count": null,
   "metadata": {},
   "outputs": [],
   "source": [
    "root_dir = '/Users/lillythomas/Documents/work/marine_litter_ML/geojsons'"
   ]
  },
  {
   "cell_type": "code",
   "execution_count": null,
   "metadata": {},
   "outputs": [],
   "source": [
    "imagery_dir = '/Users/lillythomas/Documents/work/marine_litter_ML/geojsons/marine_litter_order_03172020_processed'"
   ]
  },
  {
   "cell_type": "code",
   "execution_count": null,
   "metadata": {
    "scrolled": false
   },
   "outputs": [],
   "source": [
    "tif_tiles = glob(f'{imagery_dir}/**/*.tif',recursive=True)\n",
    "\n",
    "for tif in tif_tiles:\n",
    "    filename_split = os.path.splitext(tif) \n",
    "    filename_zero, fileext = filename_split \n",
    "    basename = os.path.basename(filename_zero) \n",
    "    basename_cp = basename\n",
    "    basename = basename[15:]\n",
    "    basename =basename.replace('_3B_Visual','')\n",
    "    basename = basename[0:8]+'_'+basename[9:]\n",
    "    \n",
    "    try:\n",
    "        geoj = f'{geo_dir}/{basename}.geojson'             \n",
    "\n",
    "        bbox = get_bounding_box(geoj)\n",
    "\n",
    "        config = f'{root_dir}/config.json'\n",
    "\n",
    "        with open(config, 'r') as con_j:\n",
    "            config_json = json.load(con_j)\n",
    "\n",
    "        s = basename[-7:]  \n",
    "        print(s)             \n",
    "        st = find(f'*{s}*', imagery_dir)\n",
    "        print(st)\n",
    "        config_json['bounding_box'] = bbox\n",
    "        config_json['geojson'] = geoj\n",
    "        config_json['imagery'] = f'{imagery_dir}/{basename_cp}.tif'\n",
    "        print(config_json)  \n",
    "\n",
    "        if not os.path.exists(f'{root_dir}/configs/{basename}'):\n",
    "            os.makedirs(f'{root_dir}/configs/{basename}')          \n",
    "        makedirs(f'{root_dir}/configs/{basename}')             \n",
    "        config_out = f'{root_dir}/configs/{basename}/config.json'\n",
    "\n",
    "        with open(config_out, 'w') as con_n_j:\n",
    "            json.dump(config_json, con_n_j)\n",
    "            print(config_json)\n",
    "\n",
    "        os.chdir(f'{root_dir}/configs/')           \n",
    "        os.chdir(f'{basename}')\n",
    "        subprocess.run(['label-maker', 'labels'])\n",
    "        subprocess.run(['label-maker', 'images'])\n",
    "        os.chdir(f'{root_dir}')  \n",
    "        makedirs(f'data_working/{basename}')\n",
    "        shutil.move(f'configs/{basename}/data/labels.npz', f'data_working/{basename}')\n",
    "        shutil.move(f'configs/{basename}/data/tiles', f'data_working/{basename}/tiles')                 \n",
    "    except:\n",
    "        print(f\"no geo for {basename}\")\n",
    "        continue"
   ]
  },
  {
   "cell_type": "code",
   "execution_count": null,
   "metadata": {},
   "outputs": [],
   "source": [
    "os.chdir(root_dir)\n",
    "\n",
    "tif_tiles = glob(f'{imagery_dir}/**/*.tif',recursive=True)\n",
    "for tif in tif_tiles:\n",
    "    os.chdir(root_dir)\n",
    "    imt = rasterio.open(tif)\n",
    "    ims = imt.profile\n",
    "    filename_split = os.path.splitext(tif) \n",
    "    filename_zero, fileext = filename_split \n",
    "    basename = os.path.basename(filename_zero) \n",
    "    basename_cp = basename\n",
    "    basename = basename[15:]\n",
    "    basename =basename.replace('_3B_Visual','')\n",
    "    basename = basename[0:8]+'_'+basename[9:]\n",
    "    os.chdir(f'data_working/')\n",
    "    try:\n",
    "        os.chdir(f'{basename}/tiles/')\n",
    "        try:\n",
    "            for t in glob('./*tif'):\n",
    "                tp = t[:-4]+'.jpg'\n",
    "                subprocess.run(['gdal_translate', '-of', 'JPEG', t, tp])\n",
    "\n",
    "        except:\n",
    "            print(f\"no files for {basename}\")\n",
    "            continue\n",
    "        os.chdir(root_dir)\n",
    "    except:\n",
    "        print(f\"no dir for {basename}\")\n",
    "        continue\n",
    "    os.chdir(root_dir)"
   ]
  },
  {
   "cell_type": "code",
   "execution_count": null,
   "metadata": {},
   "outputs": [],
   "source": []
  }
 ],
 "metadata": {
  "kernelspec": {
   "display_name": "pybayts",
   "language": "python",
   "name": "pybayts"
  },
  "language_info": {
   "codemirror_mode": {
    "name": "ipython",
    "version": 3
   },
   "file_extension": ".py",
   "mimetype": "text/x-python",
   "name": "python",
   "nbconvert_exporter": "python",
   "pygments_lexer": "ipython3",
   "version": "3.6.8"
  }
 },
 "nbformat": 4,
 "nbformat_minor": 4
}
