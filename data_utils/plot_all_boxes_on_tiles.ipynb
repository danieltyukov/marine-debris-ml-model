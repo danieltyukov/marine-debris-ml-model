{
 "cells": [
  {
   "cell_type": "code",
   "execution_count": 37,
   "source": [
    "import matplotlib.pyplot as plt\r\n",
    "import matplotlib.patches as patches\r\n",
    "from PIL import Image\r\n",
    "import pandas as pd\r\n",
    "import os\r\n",
    "from glob import glob\r\n",
    "\r\n",
    "\r\n",
    "data_dir = '/path/to/labelmaker/data'\r\n",
    "csvs = glob(f'{data_dir}/tf_records/*_train.csv')\r\n",
    "\r\n",
    "dfs = [pd.read_csv(csv) for csv in csvs]"
   ],
   "outputs": [],
   "metadata": {}
  },
  {
   "cell_type": "code",
   "execution_count": null,
   "source": [
    "for df, csv in zip(dfs, csvs):\r\n",
    "    dfg = df.groupby('filename')\r\n",
    "    for file, frame in dfg:\r\n",
    "        print(f\"First 2 entries for {file!r}\")\r\n",
    "        print(\"------------------------\")\r\n",
    "        print(frame.head(2), end=\"\\n\\n\")\r\n",
    "        filename_split = os.path.splitext(csv) \r\n",
    "        filename_zero, fileext = filename_split \r\n",
    "        basename = os.path.basename(filename_zero)\r\n",
    "        basename =basename.replace('_train','')\r\n",
    "        print(f'basename {basename}')\r\n",
    "        im = Image.open(f'{data_dir}/{basename}/tiles/{file}')\r\n",
    "        fig, ax = plt.subplots()\r\n",
    "        ax.imshow(im)\r\n",
    "        rects = []\r\n",
    "        for index, box in frame.iterrows():\r\n",
    "            print(f'box {box}')\r\n",
    "            w = box.xmax - box.xmin\r\n",
    "            h = box.ymax - box.ymin\r\n",
    "            rect = patches.Rectangle((box.xmin, box.ymin), w, h, linewidth=1, edgecolor='r', facecolor='none')\r\n",
    "            rects.append(rect)\r\n",
    "        for rect in rects:\r\n",
    "            ax.add_patch(rect)\r\n",
    "        if not os.path.exists(f'{data_dir}/{basename}/tiles_viz/'):\r\n",
    "            os.makedirs(f'{data_dir}/{basename}/tiles_viz/')\r\n",
    "        plt.savefig(f'{data_dir}/{basename}/tiles_viz/{file}')"
   ],
   "outputs": [],
   "metadata": {
    "scrolled": true
   }
  }
 ],
 "metadata": {
  "kernelspec": {
   "display_name": "pybayts",
   "language": "python",
   "name": "pybayts"
  },
  "language_info": {
   "codemirror_mode": {
    "name": "ipython",
    "version": 3
   },
   "file_extension": ".py",
   "mimetype": "text/x-python",
   "name": "python",
   "nbconvert_exporter": "python",
   "pygments_lexer": "ipython3",
   "version": "3.6.8"
  }
 },
 "nbformat": 4,
 "nbformat_minor": 4
}